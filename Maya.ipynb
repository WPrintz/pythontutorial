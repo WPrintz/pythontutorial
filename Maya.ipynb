{
 "cells": [
  {
   "cell_type": "markdown",
   "metadata": {},
   "source": [
    "## Maya's Notebook"
   ]
  },
  {
   "cell_type": "code",
   "execution_count": 12,
   "metadata": {},
   "outputs": [
    {
     "data": {
      "text/plain": [
       "3285"
      ]
     },
     "execution_count": 12,
     "metadata": {},
     "output_type": "execute_result"
    }
   ],
   "source": [
    "year = 365 \n",
    "number_of_years = 9\n",
    "number_of_years * year"
   ]
  },
  {
   "cell_type": "code",
   "execution_count": 6,
   "metadata": {},
   "outputs": [],
   "source": [
    "def calculadorf(name,number_of_years):\n",
    "    year = 365 \n",
    "#    number_of_years = 9\n",
    "    number_of_days = number_of_years * year\n",
    "    print(name + ' is ' + str(number_of_days) + ' days old ' )"
   ]
  },
  {
   "cell_type": "code",
   "execution_count": 7,
   "metadata": {},
   "outputs": [
    {
     "name": "stdout",
     "output_type": "stream",
     "text": [
      "Jen is 15330 days old \n"
     ]
    }
   ],
   "source": [
    "calculadorf('Jen',42)"
   ]
  },
  {
   "cell_type": "code",
   "execution_count": 10,
   "metadata": {},
   "outputs": [
    {
     "name": "stdout",
     "output_type": "stream",
     "text": [
      "1\n",
      "Jennifer\n",
      "Jennifer is 15330 days old \n",
      "2\n",
      "Wallace\n",
      "Wallace is 15330 days old \n",
      "3\n",
      "Eli\n",
      "Eli is 4015 days old \n",
      "4\n",
      "Maya\n",
      "Maya is 3285 days old \n"
     ]
    }
   ],
   "source": [
    "familist = ['Jennifer','Wallace', 'Eli','Maya']\n",
    "count = 0\n",
    "for name in familist:\n",
    "    count = count + 1\n",
    "    print (count)\n",
    "    print(name)\n",
    "    \n",
    "    if name == 'Jennifer':\n",
    "        number_of_years = 42\n",
    "        \n",
    "    if name == 'Wallace':\n",
    "        number_of_years = 42\n",
    "        \n",
    "              \n",
    "    if name == 'Eli':\n",
    "        number_of_years = 11\n",
    "        \n",
    "              \n",
    "    if name == 'Maya':\n",
    "        number_of_years = 9 \n",
    "        \n",
    "    calculadorf(name, number_of_years)"
   ]
  },
  {
   "cell_type": "code",
   "execution_count": null,
   "metadata": {},
   "outputs": [],
   "source": []
  }
 ],
 "metadata": {
  "kernelspec": {
   "display_name": "conda_python3",
   "language": "python",
   "name": "conda_python3"
  },
  "language_info": {
   "codemirror_mode": {
    "name": "ipython",
    "version": 3
   },
   "file_extension": ".py",
   "mimetype": "text/x-python",
   "name": "python",
   "nbconvert_exporter": "python",
   "pygments_lexer": "ipython3",
   "version": "3.6.5"
  }
 },
 "nbformat": 4,
 "nbformat_minor": 4
}
