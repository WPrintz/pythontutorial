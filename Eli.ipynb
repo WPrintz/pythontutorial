{
 "cells": [
  {
   "cell_type": "markdown",
   "metadata": {},
   "source": [
    "## Eli's Notebook"
   ]
  },
  {
   "cell_type": "code",
   "execution_count": 1,
   "metadata": {},
   "outputs": [],
   "source": [
    "Year = 365\n",
    "EliNewBirthday = 11\n",
    "NumberOffDays = Year * EliNewBirthday"
   ]
  },
  {
   "cell_type": "code",
   "execution_count": null,
   "metadata": {},
   "outputs": [],
   "source": [
    "Year * EliNewBirthday"
   ]
  },
  {
   "cell_type": "code",
   "execution_count": 3,
   "metadata": {},
   "outputs": [],
   "source": [
    "def cc(EliNewBirthday, name):\n",
    "    Year = 365\n",
    "#     EliNewBirthday = 11\n",
    "    NumberOffDays = Year * EliNewBirthday\n",
    "    print(name + ' is ' + str(NumberOffDays) + ' days old.')\n",
    "    "
   ]
  },
  {
   "cell_type": "code",
   "execution_count": null,
   "metadata": {},
   "outputs": [],
   "source": [
    "cc(42, 'Mama')"
   ]
  },
  {
   "cell_type": "code",
   "execution_count": null,
   "metadata": {},
   "outputs": [],
   "source": [
    "TeamPrintz = ['Jennifer', 'Wallace', 'Eli', 'Maya']\n",
    "count = 0\n",
    "for name in TeamPrintz:\n",
    "    \n",
    "    if name == 'Jennifer':\n",
    "        EliNewBirthday = 43\n",
    "        \n",
    "    if name == 'Wallace':\n",
    "        EliNewBirthday = 42\n",
    "        \n",
    "    if name == 'Eli':\n",
    "        EliNewBirthday = 11\n",
    "        \n",
    "    if name == 'Maya':\n",
    "        EliNewBirthday = 9\n",
    "        \n",
    "    cc(EliNewBirthday , name)"
   ]
  },
  {
   "cell_type": "code",
   "execution_count": null,
   "metadata": {},
   "outputs": [],
   "source": [
    "name = input(\"whats you name?\")\n",
    "print(\"Nice to meet you \" + name + \"!\")\n",
    "age = input(\"Your age? \")\n",
    "days = age * 365\n",
    "print(\"So, you are \" + age + \" years old \" + name + \"!\")"
   ]
  },
  {
   "cell_type": "code",
   "execution_count": null,
   "metadata": {},
   "outputs": [
    {
     "name": "stdout",
     "output_type": "stream",
     "text": [
      "Hello. I am El1. You may know me, but I don't know you.\n"
     ]
    }
   ],
   "source": [
    "print(\"Hello. I am El1. You may know me, but I don't know you.\")\n",
    "name = input(\"I won't steal your information or anything, just tell me your name.\")\n",
    "print(\"Hello \" + name + \"!\")\n",
    "print(\"This is a story time...\")\n",
    "print(\"...\")\n",
    "print(\"Please Wait\")\n",
    "print(\"...\")\n",
    "print(\"Imagine this, you are at a bank and robbers are robbing the place. They pull out a gun and shoot at you. It hits you in the arm.\")\n",
    "gun_qa = input(\"Are you lucky or unlucky?\")\n",
    "print(\"So you consider yourself \" + gun_qa + \"?\")\n",
    "print(\"I would consider myself lucky as it could have hit you in the heart or the head.\")\n",
    "print(\"Ok. next question.\")\n",
    "print(\"Are you good at math? Honestly I don't care just answer the question to the best of your ability.\")\n",
    "mult_qa = input(\"what's 7x8-3+2-3?\")\n",
    "print(\"You said \" + mult_qa + \". The answer is 52. Good job if you did it right! I don't care if you got it wrong. :)\")\n",
    "print(\"Ok \" + name + \" You have made it this far but can you keep going?\")\n",
    "goon_qa = input(\"Well, can you?\")\n",
    "print(\"Well you are curious aren't you! Might as well keep going...\")\n",
    "print(\"...\")\n",
    "print(\"Imagine this: you are going hiking with your friends at camp.\")\n",
    "print(\"You are going along a trail when you reach a fork in the trail. You are with a counselor who has a walkie talkie.\")\n",
    "print(\"...\")\n",
    "trail_qa = input(\"What do think is going to happen?\")\n",
    "print(\"You guessed that you \" + trail_qa + \" .\")\n",
    "print(\"What really happened was you all got tired by then and decided to turn around and go back to the bunks.\")\n",
    "trailan = input(\"Did you guess correctly?\")\n",
    "print(\"If you did good job, if not whatever.\")\n",
    "print(\"Thank you for taking this story quiz it is still in development!\")"
   ]
  },
  {
   "cell_type": "code",
   "execution_count": 4,
   "metadata": {},
   "outputs": [
    {
     "name": "stdout",
     "output_type": "stream",
     "text": [
      "Starting now\n",
      "Ready!\n"
     ]
    }
   ],
   "source": [
    "from time import sleep as slp\n",
    "print('Starting now')\n",
    "slp(5)\n",
    "print('Ready!')"
   ]
  },
  {
   "cell_type": "code",
   "execution_count": 55,
   "metadata": {},
   "outputs": [
    {
     "name": "stdout",
     "output_type": "stream",
     "text": [
      "1\n",
      "7\n",
      "1\n",
      "11\n",
      "11\n",
      "1\n",
      "0\n",
      "8\n",
      "0\n",
      "11\n",
      "7\n",
      "0\n",
      "3\n"
     ]
    }
   ],
   "source": [
    "import random\n",
    "names = ['Eli', 'Maya', 'Dad', 'Mom']\n",
    "numbers = range(0,13)\n",
    "for i in numbers:\n",
    "    print(random.choice(numbers))"
   ]
  },
  {
   "cell_type": "code",
   "execution_count": 3,
   "metadata": {},
   "outputs": [
    {
     "name": "stdin",
     "output_type": "stream",
     "text": [
      "What is your name? Eli\n"
     ]
    },
    {
     "name": "stdout",
     "output_type": "stream",
     "text": [
      "Congratulations Eli you have won a trip to mars!\n",
      "We will board the rocket soon, get ready!\n",
      "Starting pre-flight checks!\n",
      "5\n",
      "4\n",
      "3\n",
      "2\n",
      "1\n",
      "Liftoff!\n"
     ]
    }
   ],
   "source": [
    "name = input('What is your name?')\n",
    "print('Congratulations ' + name + \" you have won a trip to mars!\")\n",
    "print(\"We will board the rocket soon, get ready!\")\n",
    "from time import sleep\n",
    "sleep(8)\n",
    "print(\"Starting pre-flight checks!\")\n",
    "print(\"5\")\n",
    "sleep(1)\n",
    "print(\"4\")\n",
    "sleep(1)\n",
    "print(\"3\")\n",
    "sleep(1)\n",
    "print(\"2\")\n",
    "sleep(1)\n",
    "print(\"1\")\n",
    "sleep(1)\n",
    "print(\"Liftoff!\")\n",
    "sleep(3)\n",
    "print(\"The rocket has cleared the tower!\")\n",
    "print(\"You look around. You see a wall full of screens, a large area full of cabnets, and an airlock.\")\n",
    "sleep(3)\n"
   ]
  }
 ],
 "metadata": {
  "kernelspec": {
   "display_name": "conda_python3",
   "language": "python",
   "name": "conda_python3"
  },
  "language_info": {
   "codemirror_mode": {
    "name": "ipython",
    "version": 3
   },
   "file_extension": ".py",
   "mimetype": "text/x-python",
   "name": "python",
   "nbconvert_exporter": "python",
   "pygments_lexer": "ipython3",
   "version": "3.6.5"
  }
 },
 "nbformat": 4,
 "nbformat_minor": 4
}
