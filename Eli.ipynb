{
 "cells": [
  {
   "cell_type": "markdown",
   "metadata": {},
   "source": [
    "## Eli's Notebook"
   ]
  },
  {
   "cell_type": "code",
   "execution_count": 16,
   "metadata": {},
   "outputs": [],
   "source": [
    "Year = 365\n",
    "EliNewBirthday = 11\n",
    "NumberOffDays = Year * EliNewBirthday"
   ]
  },
  {
   "cell_type": "code",
   "execution_count": 5,
   "metadata": {},
   "outputs": [
    {
     "data": {
      "text/plain": [
       "4015"
      ]
     },
     "execution_count": 5,
     "metadata": {},
     "output_type": "execute_result"
    }
   ],
   "source": [
    "Year * EliNewBirthday"
   ]
  },
  {
   "cell_type": "code",
   "execution_count": 17,
   "metadata": {},
   "outputs": [],
   "source": [
    "def cc(EliNewBirthday, name):\n",
    "    Year = 365\n",
    "#     EliNewBirthday = 11\n",
    "    NumberOffDays = Year * EliNewBirthday\n",
    "    print(name + ' is ' + str(NumberOffDays) + ' days old.')\n",
    "    "
   ]
  },
  {
   "cell_type": "code",
   "execution_count": 7,
   "metadata": {},
   "outputs": [
    {
     "name": "stdout",
     "output_type": "stream",
     "text": [
      "Mama is 15330 days old.\n"
     ]
    }
   ],
   "source": [
    "cc(42, 'Mama')"
   ]
  },
  {
   "cell_type": "code",
   "execution_count": 20,
   "metadata": {},
   "outputs": [
    {
     "name": "stdout",
     "output_type": "stream",
     "text": [
      "Jennifer is 15695 days old.\n",
      "Wallace is 15330 days old.\n",
      "Eli is 4015 days old.\n",
      "Maya is 3285 days old.\n"
     ]
    }
   ],
   "source": [
    "TeamPrintz = ['Jennifer', 'Wallace', 'Eli', 'Maya']\n",
    "count = 0\n",
    "for name in TeamPrintz:\n",
    "    \n",
    "    if name == 'Jennifer':\n",
    "        EliNewBirthday = 43\n",
    "        \n",
    "    if name == 'Wallace':\n",
    "        EliNewBirthday = 42\n",
    "        \n",
    "    if name == 'Eli':\n",
    "        EliNewBirthday = 11\n",
    "        \n",
    "    if name == 'Maya':\n",
    "        EliNewBirthday = 9\n",
    "        \n",
    "    cc(EliNewBirthday , name)"
   ]
  }
 ],
 "metadata": {
  "kernelspec": {
   "display_name": "conda_python3",
   "language": "python",
   "name": "conda_python3"
  },
  "language_info": {
   "codemirror_mode": {
    "name": "ipython",
    "version": 3
   },
   "file_extension": ".py",
   "mimetype": "text/x-python",
   "name": "python",
   "nbconvert_exporter": "python",
   "pygments_lexer": "ipython3",
   "version": "3.6.5"
  }
 },
 "nbformat": 4,
 "nbformat_minor": 4
}
