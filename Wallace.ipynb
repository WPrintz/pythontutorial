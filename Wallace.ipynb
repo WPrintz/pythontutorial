{
 "cells": [
  {
   "cell_type": "markdown",
   "metadata": {},
   "source": [
    "## Wallace's Notebook"
   ]
  },
  {
   "cell_type": "code",
   "execution_count": 13,
   "metadata": {},
   "outputs": [
    {
     "name": "stdout",
     "output_type": "stream",
     "text": [
      "Wallace is 15330 days old.\n"
     ]
    }
   ],
   "source": [
    "def calculator(name, years_old):\n",
    "    days_in_year = 365\n",
    "    days_old = days_in_year * years_old\n",
    "    print(name + ' is ' + str(days_old) + ' days old.')\n",
    "    \n",
    "calculator(years_old=42, name='Wallace')"
   ]
  },
  {
   "cell_type": "code",
   "execution_count": 4,
   "metadata": {},
   "outputs": [
    {
     "name": "stdout",
     "output_type": "stream",
     "text": [
      "first item\n",
      "second item\n",
      "third item\n"
     ]
    }
   ],
   "source": [
    "mylist = ['first item', 'second item', 'third item'] #This is a list in square brackets\n",
    "for item in mylist:  #This is a for loop\n",
    "    print(item)"
   ]
  },
  {
   "cell_type": "code",
   "execution_count": 38,
   "metadata": {},
   "outputs": [
    {
     "name": "stdout",
     "output_type": "stream",
     "text": [
      "Jennifer is 15330 days old.\n",
      "Wallace is 15330 days old.\n",
      "Eli is 4015 days old.\n",
      "Maya is 3285 days old.\n",
      "Pony is 0 days old.\n"
     ]
    }
   ],
   "source": [
    "family_list = ['Jennifer', 'Wallace', 'Eli', 'Maya', 'Pony']\n",
    "\n",
    "for name in family_list:\n",
    "\n",
    "    if name == 'Jennifer':\n",
    "        years_old = 42\n",
    "    \n",
    "    elif name == 'Wallace':\n",
    "        years_old = 42\n",
    "        \n",
    "    elif name == 'Eli':\n",
    "        years_old = 11\n",
    "        \n",
    "    elif name == 'Maya':\n",
    "        years_old = 9\n",
    "        \n",
    "    else:\n",
    "        years_old = 0\n",
    "    \n",
    "    calculator(name, years_old)"
   ]
  },
  {
   "cell_type": "code",
   "execution_count": 47,
   "metadata": {},
   "outputs": [
    {
     "name": "stdout",
     "output_type": "stream",
     "text": [
      "Jennifer is 14600 days old.\n",
      "Wallace is 15330 days old.\n",
      "Eli is 4015 days old.\n",
      "Maya is 3285 days old.\n",
      "Pony is 2190 days old.\n"
     ]
    }
   ],
   "source": [
    "family_dictionary = {'Jennifer':40, \n",
    "                     'Wallace':42, \n",
    "                     'Eli':11, \n",
    "                     'Maya': 9, \n",
    "                     'Pony':6}\n",
    "\n",
    "family_list = ['Jennifer', \n",
    "               'Wallace', \n",
    "               'Eli', \n",
    "               'Maya', \n",
    "               'Pony']\n",
    "\n",
    "for name in family_list:\n",
    "    years_old = family_dictionary[name]\n",
    "    calculator(name, years_old)"
   ]
  },
  {
   "cell_type": "code",
   "execution_count": 31,
   "metadata": {},
   "outputs": [
    {
     "data": {
      "text/plain": [
       "False"
      ]
     },
     "execution_count": 31,
     "metadata": {},
     "output_type": "execute_result"
    }
   ],
   "source": []
  }
 ],
 "metadata": {
  "kernelspec": {
   "display_name": "conda_python3",
   "language": "python",
   "name": "conda_python3"
  },
  "language_info": {
   "codemirror_mode": {
    "name": "ipython",
    "version": 3
   },
   "file_extension": ".py",
   "mimetype": "text/x-python",
   "name": "python",
   "nbconvert_exporter": "python",
   "pygments_lexer": "ipython3",
   "version": "3.6.5"
  }
 },
 "nbformat": 4,
 "nbformat_minor": 4
}
